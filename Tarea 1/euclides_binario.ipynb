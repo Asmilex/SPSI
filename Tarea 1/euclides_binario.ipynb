{
 "cells": [
  {
   "cell_type": "code",
   "execution_count": 11,
   "metadata": {},
   "outputs": [],
   "source": [
    "def bxeuc(m, n):\n",
    "    \"\"\"\n",
    "    Dados dos números enteros `m`, `n`, proporciona otros tres: `g`, `u`, `v` de forma que `g = mu + nv`\n",
    "    \"\"\"\n",
    "\n",
    "    g = 1\n",
    "    while m % 2 == 0 and n % 2 == 0:\n",
    "        m, n, g = m/2, n/2, 2*g\n",
    "    \n",
    "    u, v = m, n\n",
    "    A, B, C, D = 1, 0, 0, 1\n",
    "\n",
    "    while u != 0:\n",
    "        while u % 2 == 0:\n",
    "            u = u/2\n",
    "            \n",
    "            if A % 2 == B % 2 and A % 2 == 0:\n",
    "                A, B = A/2, B/2\n",
    "            else:\n",
    "                A, B = (A + n)/2, (B - m)/2\n",
    "        \n",
    "        while v % 2 == 0:\n",
    "            v = v/2\n",
    "            \n",
    "            if C % 2 == D % 2 and C % 2 == 0:\n",
    "                C, D = C/2, D/2\n",
    "            else:\n",
    "                C, D = (C + n)/2, (D - m)/2\n",
    "        \n",
    "        if u >= v:\n",
    "            u = u - v\n",
    "            A, B = A - C, B - D\n",
    "        else:\n",
    "            v = v - u\n",
    "            C, D = C - A, D - B\n",
    "            \n",
    "    return (g * v, C, D)"
   ]
  },
  {
   "cell_type": "code",
   "execution_count": 14,
   "metadata": {},
   "outputs": [
    {
     "name": "stdout",
     "output_type": "stream",
     "text": [
      "5.0 12.0 -7.0\n",
      "True\n"
     ]
    }
   ],
   "source": [
    "g, u, v = bxeuc(15, 25)\n",
    "\n",
    "print(g, u, v)\n",
    "print(g == 15 * u + 25 * v)"
   ]
  }
 ],
 "metadata": {
  "interpreter": {
   "hash": "1a4ec5485fc52906d8a7c8fcf8f39da33ca1f06d93010ba644db5c2b15d734d1"
  },
  "kernelspec": {
   "display_name": "Python 3.9.7 64-bit",
   "name": "python3"
  },
  "language_info": {
   "codemirror_mode": {
    "name": "ipython",
    "version": 3
   },
   "file_extension": ".py",
   "mimetype": "text/x-python",
   "name": "python",
   "nbconvert_exporter": "python",
   "pygments_lexer": "ipython3",
   "version": "3.9.7"
  },
  "orig_nbformat": 4
 },
 "nbformat": 4,
 "nbformat_minor": 2
}
