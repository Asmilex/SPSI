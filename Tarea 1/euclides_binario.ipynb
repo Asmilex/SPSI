{
 "cells": [
  {
   "cell_type": "markdown",
   "metadata": {},
   "source": [
    "# Operaciones\n",
    "\n",
    "Asumimos $m \\ge n$:\n",
    "\n",
    "| m     | n     | gcd(m, n)               |\n",
    "|-------|-------|-------------------------|\n",
    "| m     | 0     | m                       |\n",
    "| par   | par   | $2 \\cdot gcd(m/2, n/2)$ |\n",
    "| par   | impar | $gcd(m/2, n)$           |\n",
    "| impar | par   | $gcd(m, n/2)$           |\n",
    "| impar | impar | $gcd(\\frac{m-n}{2}, n)$ |\n",
    "\n",
    "El algoritmo termina cuando $m = n$, o cuando $m = 0$. Aprovechamos la facilidad que nos ofrece la codificación en binario de los números enteros para consultar la paridad (basta con consultar el último bit) y para dividir entre dos números pares (basta con eliminar el último 0).\n"
   ]
  },
  {
   "cell_type": "markdown",
   "metadata": {},
   "source": [
    "# Codificación del algoritmo"
   ]
  },
  {
   "cell_type": "code",
   "execution_count": 5,
   "metadata": {},
   "outputs": [],
   "source": [
    "def bxeuc(m, n):\n",
    "    \"\"\"\n",
    "    Algoritmo de Stein\n",
    "    Dados dos números enteros `m`, `n`, proporciona otros tres: `g`, `u`, `v` de forma que `g = mu + nv`\n",
    "    \"\"\"\n",
    "\n",
    "    if m == 0:\n",
    "        return [ n, 0, 1 ] \n",
    "    if n == 0: \n",
    "        return [ m, 1, 0 ] \n",
    "    \n",
    "    # Encontrar k, donde k es la mayor potencia de 2 tal que divide a m, n\n",
    "    k = 0\n",
    "    while ((m | n) & 1) == 0:   # Mientras que sean ambos pares, dividimos entre 2\n",
    "        m >>= 1           \n",
    "        n >>= 1\n",
    "        k = k + 1\n",
    "    \n",
    "    # Inicializar coefcientes de Bezout\n",
    "    m0, n0 = m, n\n",
    "    sm, sn = 1, 0\n",
    "    tm, tn = 0, 1\n",
    "\n",
    "    while m & 1 == 0:   # Mientras que m sea par\n",
    "        if not ((sm | sn) & 1) == 0: # Mientras que sm, sn sean impares\n",
    "            # Hacemos las siguientes operaciones para mantener el invariante y hacerlos pares.\n",
    "            sm -= n0\n",
    "            sn += m0\n",
    "        m  >>= 1\n",
    "        sm >>= 1\n",
    "        sn >>= 1\n",
    "\n",
    "\n",
    "    # A partir de aquí, n siempre es impar\n",
    "    while n != 0:\n",
    "        # Si n es par, le quitamos todos los factores de 2\n",
    "        while n & 1 == 0:\n",
    "            if not ((tm | tn) & 1) == 0:\n",
    "                tm -= n0\n",
    "                tn += m0\n",
    "            n  >>= 1\n",
    "            tm >>= 1\n",
    "            tn >>= 1\n",
    "        \n",
    "        # Ahora m y n son impares\n",
    "        if m > n: \n",
    "            t = m\n",
    "            m = n\n",
    "            n = t\n",
    "\n",
    "            t  = sm\n",
    "            sm = tm\n",
    "            tm = t\n",
    "\n",
    "            t  = sn\n",
    "            sn = tn\n",
    "            tn = t\n",
    "        \n",
    "        n  = n  - m\n",
    "        tm = tm - sm\n",
    "        tn = tn - sn\n",
    "\n",
    "        \n",
    "    return [ m << k, sm, sn ]"
   ]
  },
  {
   "cell_type": "markdown",
   "metadata": {},
   "source": [
    "# Ejemplos de uso"
   ]
  },
  {
   "cell_type": "markdown",
   "metadata": {},
   "source": [
    "## Ejemplo con un valor nulo"
   ]
  },
  {
   "cell_type": "code",
   "execution_count": 8,
   "metadata": {},
   "outputs": [
    {
     "name": "stdout",
     "output_type": "stream",
     "text": [
      "gcd(0, 7) = 7\n",
      "¿Se verifica g= m*u + n*v?  True\n"
     ]
    }
   ],
   "source": [
    "m, n = 0, 374713\n",
    "g, u, v = bxeuc(m, n)\n",
    "\n",
    "print(\"gcd(%d, %d) = %d\" % (m, n ,g) )\n",
    "print(\"¿Se verifica g= m*u + n*v? \", g == m * u + n * v)"
   ]
  },
  {
   "cell_type": "markdown",
   "metadata": {},
   "source": [
    "## Ejemplo con dos valores pares"
   ]
  },
  {
   "cell_type": "code",
   "execution_count": 9,
   "metadata": {},
   "outputs": [
    {
     "name": "stdout",
     "output_type": "stream",
     "text": [
      "gcd(444217266, 7471467120) = 6\n",
      "¿Se verifica g= m*u + n*v?  True\n"
     ]
    }
   ],
   "source": [
    "m, n = 444217266, 7471467120\n",
    "g, u, v = bxeuc(m, n)\n",
    "\n",
    "print(\"gcd(%d, %d) = %d\" % (m, n ,g) )\n",
    "print(\"¿Se verifica g= m*u + n*v? \", g == m * u + n * v)"
   ]
  },
  {
   "cell_type": "markdown",
   "metadata": {},
   "source": [
    "## Ejemplo con un valor par y un valor impar"
   ]
  },
  {
   "cell_type": "code",
   "execution_count": 10,
   "metadata": {},
   "outputs": [
    {
     "name": "stdout",
     "output_type": "stream",
     "text": [
      "gcd(444217266, 138413216273) = 1\n",
      "¿Se verifica g= m*u + n*v?  True\n"
     ]
    }
   ],
   "source": [
    "m, n = 444217266, 138413216273\n",
    "g, u, v = bxeuc(m, n)\n",
    "\n",
    "print(\"gcd(%d, %d) = %d\" % (m, n ,g) )\n",
    "print(\"¿Se verifica g= m*u + n*v? \", g == m * u + n * v)"
   ]
  },
  {
   "cell_type": "markdown",
   "metadata": {},
   "source": [
    "## Ejemplo con dos valores impares"
   ]
  },
  {
   "cell_type": "code",
   "execution_count": 11,
   "metadata": {},
   "outputs": [
    {
     "name": "stdout",
     "output_type": "stream",
     "text": [
      "gcd(2146541749821, 386451287462719) = 1\n",
      "¿Se verifica g= m*u + n*v?  True\n"
     ]
    }
   ],
   "source": [
    "m, n = 2146541749821, 386451287462719\n",
    "g, u, v = bxeuc(m, n)\n",
    "\n",
    "print(\"gcd(%d, %d) = %d\" % (m, n ,g) )\n",
    "print(\"¿Se verifica g= m*u + n*v? \", g == m * u + n * v)"
   ]
  }
 ],
 "metadata": {
  "interpreter": {
   "hash": "1a4ec5485fc52906d8a7c8fcf8f39da33ca1f06d93010ba644db5c2b15d734d1"
  },
  "kernelspec": {
   "display_name": "Python 3.9.7 64-bit",
   "name": "python3"
  },
  "language_info": {
   "codemirror_mode": {
    "name": "ipython",
    "version": 3
   },
   "file_extension": ".py",
   "mimetype": "text/x-python",
   "name": "python",
   "nbconvert_exporter": "python",
   "pygments_lexer": "ipython3",
   "version": "3.9.5"
  },
  "orig_nbformat": 4
 },
 "nbformat": 4,
 "nbformat_minor": 2
}
