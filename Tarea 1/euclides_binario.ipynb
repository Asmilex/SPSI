{
 "cells": [
  {
   "cell_type": "markdown",
   "metadata": {},
   "source": [
    "## Operaciones\n",
    "\n",
    "Asumimos $m \\ge n$:\n",
    "\n",
    "| m     | n     | gcd(m, n)               |\n",
    "|-------|-------|-------------------------|\n",
    "| m     | 0     | m                       |\n",
    "| par   | par   | $2 \\cdot gcd(m/2, n/2)$ |\n",
    "| par   | impar | $gcd(m/2, n)$           |\n",
    "| impar | par   | $gcd(m, n/2)$           |\n",
    "| impar | impar | $gcd(\\frac{m-n}{2}, n)$ |\n",
    "\n",
    "El algoritmo termina cuando $m = n$, o cuando $m = 0$\n"
   ]
  },
  {
   "cell_type": "code",
   "execution_count": 2,
   "metadata": {},
   "outputs": [],
   "source": [
    "def bxeuc(m, n):\n",
    "    \"\"\"\n",
    "    Algoritmo de Stein\n",
    "    Dados dos números enteros `m`, `n`, proporciona otros tres: `g`, `u`, `v` de forma que `g = mu + nv`\n",
    "    \"\"\"\n",
    "\n",
    "    if m == 0:\n",
    "        return [ n, 0, 1 ] \n",
    "    if n == 0: \n",
    "        return [ m, 1, 0 ] \n",
    "    \n",
    "    # Encontrar k, donde k es la mayor potencia de 2 tal que divide a m, n\n",
    "    k = 0\n",
    "    while ((m | n) & 1) == 0:   # Mientras que sean ambos pares, dividimos entre 2\n",
    "        m >>= 1           \n",
    "        n >>= 1\n",
    "        k = k + 1\n",
    "    \n",
    "    # Inicializar coefcientes de Bezout\n",
    "    m0, n0 = m, n\n",
    "    sm, sn = 1, 0\n",
    "    tm, tn = 0, 1\n",
    "\n",
    "    while m & 1 == 0:   # Mientras que m sea par\n",
    "        if not ((sm | sn) & 1) == 0: # Mientras que sm, sn sean impares\n",
    "            # Hacemos las siguientes operaciones para mantener el invariante y hacerlos pares.\n",
    "            sm -= n0\n",
    "            sn += m0\n",
    "        m  >>= 1\n",
    "        sm >>= 1\n",
    "        sn >>= 1\n",
    "\n",
    "\n",
    "    # A partir de aquí, n siempre es impar\n",
    "    while n != 0:\n",
    "        # Si n es par, le quitamos todos los factores de 2\n",
    "        while n & 1 == 0:\n",
    "            if not ((tm | tn) & 1) == 0:\n",
    "                tm -= n0\n",
    "                tn += m0\n",
    "            n  >>= 1\n",
    "            tm >>= 1\n",
    "            tn >>= 1\n",
    "        \n",
    "        # Ahora m y n son impares\n",
    "        if m > n: \n",
    "            t = m\n",
    "            m = n\n",
    "            n = t\n",
    "\n",
    "            t  = sm\n",
    "            sm = tm\n",
    "            tm = t\n",
    "\n",
    "            t  = sn\n",
    "            sn = tn\n",
    "            tn = t\n",
    "        \n",
    "        n  = n  - m\n",
    "        tm = tm - sm\n",
    "        tn = tn - sn\n",
    "\n",
    "        \n",
    "    return [ m << k, sm, sn ]"
   ]
  },
  {
   "cell_type": "code",
   "execution_count": 3,
   "metadata": {},
   "outputs": [
    {
     "name": "stdout",
     "output_type": "stream",
     "text": [
      "5\n",
      "True\n"
     ]
    }
   ],
   "source": [
    "g, u, v = bxeuc(15, 25)\n",
    "\n",
    "print(g)\n",
    "print(g == 15 * u + 25 * v)"
   ]
  },
  {
   "cell_type": "code",
   "execution_count": 5,
   "metadata": {},
   "outputs": [
    {
     "data": {
      "text/plain": [
       "12"
      ]
     },
     "execution_count": 5,
     "metadata": {},
     "output_type": "execute_result"
    }
   ],
   "source": [
    "g, u, v = bxeuc(24, 36)\n",
    "g"
   ]
  }
 ],
 "metadata": {
  "interpreter": {
   "hash": "1a4ec5485fc52906d8a7c8fcf8f39da33ca1f06d93010ba644db5c2b15d734d1"
  },
  "kernelspec": {
   "display_name": "Python 3.9.7 64-bit",
   "name": "python3"
  },
  "language_info": {
   "codemirror_mode": {
    "name": "ipython",
    "version": 3
   },
   "file_extension": ".py",
   "mimetype": "text/x-python",
   "name": "python",
   "nbconvert_exporter": "python",
   "pygments_lexer": "ipython3",
   "version": "3.9.7"
  },
  "orig_nbformat": 4
 },
 "nbformat": 4,
 "nbformat_minor": 2
}
