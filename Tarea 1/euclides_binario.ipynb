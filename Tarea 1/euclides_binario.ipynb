{
 "cells": [
  {
   "cell_type": "code",
   "execution_count": 23,
   "metadata": {},
   "outputs": [],
   "source": [
    "def bxeuc(m, n):\n",
    "    \"\"\"\n",
    "    Algoritmo de Stein\n",
    "    Dados dos números enteros `m`, `n`, proporciona otros tres: `g`, `u`, `v` de forma que `g = mu + nv`\n",
    "    START\n",
    "        1. check If both a and b are 0, gcd is zero gcd(0, 0) = 0.\n",
    "        2. then gcd(a, 0) = a and gcd(0, b) = b because everything divides 0.\n",
    "        3. check If a and b are both even, gcd(a, b) = 2*gcd(a/2, b/2) because 2 is a common divisor. Multiplication with 2 can be done with a bitwise shift operator.\n",
    "        4. If a is even and b is odd, gcd(a, b) = gcd(a/2, b). Similarly, if a is odd and b is even, then gcd(a, b) = gcd(a, b/2). It is because 2 is not a common divisor.\n",
    "        5. If both a and b are odd, then gcd(a, b) = gcd(|a-b|/2, b). Note that difference of two odd numbers is even\n",
    "        6. Repeat steps 3–5 until a = b, or until a = 0.\n",
    "    END\n",
    "\n",
    "    \"\"\"\n",
    "    \n",
    "    if m == 0:\n",
    "        return n \n",
    "    if n == 0: \n",
    "        return m \n",
    "    \n",
    "    # Encontrar k, donde k es la mayor potencia de 2 tal que divide a m ,n\n",
    "    k = 0\n",
    "    while ((m | n) & 1) == 0:\n",
    "        m >>= 1 \n",
    "        n >>= 1\n",
    "        k = k + 1\n",
    "    \n",
    "    # Dividir m por 2 hasta que se convierta en impar\n",
    "    while (m > 1) == 0:\n",
    "        m >>= 1\n",
    "\n",
    "    # A partir de aquí, n siempre es impar\n",
    "    while n != 0:\n",
    "        # Si n es par, le quitamos todos los factores de 2\n",
    "        while (n > 1) == 0:\n",
    "            n >>= 1\n",
    "        \n",
    "        # Ahora m y n son impares\n",
    "        if m > n: \n",
    "            m, n = n, m\n",
    "        \n",
    "        n = n - m # FIXME\n",
    "    \n",
    "    return m << k\n",
    "\n",
    "     "
   ]
  },
  {
   "cell_type": "code",
   "execution_count": 24,
   "metadata": {},
   "outputs": [
    {
     "name": "stdout",
     "output_type": "stream",
     "text": [
      "5\n"
     ]
    }
   ],
   "source": [
    "g = bxeuc(15, 25)\n",
    "\n",
    "print(g)\n",
    "#print(g == 15 * u + 25 * v)"
   ]
  }
 ],
 "metadata": {
  "interpreter": {
   "hash": "1a4ec5485fc52906d8a7c8fcf8f39da33ca1f06d93010ba644db5c2b15d734d1"
  },
  "kernelspec": {
   "display_name": "Python 3.9.7 64-bit",
   "name": "python3"
  },
  "language_info": {
   "codemirror_mode": {
    "name": "ipython",
    "version": 3
   },
   "file_extension": ".py",
   "mimetype": "text/x-python",
   "name": "python",
   "nbconvert_exporter": "python",
   "pygments_lexer": "ipython3",
   "version": "3.9.7"
  },
  "orig_nbformat": 4
 },
 "nbformat": 4,
 "nbformat_minor": 2
}
