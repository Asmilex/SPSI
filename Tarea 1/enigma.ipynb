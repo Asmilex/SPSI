{
 "cells": [
  {
   "cell_type": "code",
   "execution_count": 82,
   "metadata": {},
   "outputs": [],
   "source": [
    "Ruedas = {\n",
    "    \"base\": \"ABCDEFGHIJKLMNOPQRSTUVWXYZ\",\n",
    "    \"I\"   : \"EKMFLGDQVZNTOWYHXUSPAIBRCJ\",\n",
    "    \"II\"  : \"AJDKSIRUXBLHWTMCQGZNPYFVOE\",\n",
    "    \"III\" : \"BDFHJLCPRTXVZNYEIWGAKMUSQO\",\n",
    "    \"IV\"  : \"ESOVPZJAYQUIRHXLNFTGKDCMWB\",\n",
    "    \"V\"   : \"VZBRGITYUPSDNHLXAWMJQOFECK\",\n",
    "    \"VI\"  : \"JPGVOUMFYQBENHZRDKASXLICTW\",\n",
    "    \"VII\" : \"NZJHGRCXMYSWBOUFAIVLPEKQDT\",\n",
    "    \"VIII\": \"FKQHTLXOCBJSPDZRAMEWNIUYGV\"\n",
    "}\n",
    "\n",
    "Ruedas_griegas = {\n",
    "    \"base\" : \"ABCDEFGHIJKLMNOPQRSTUVWXYZ\",\n",
    "    \"beta\" : \"LEYJVCNIXWPBQMDRTAKZGFUHOS\",\n",
    "    \"gamma\": \"FSOKANUERHMBTIYCWLQPZXVGJD\"\n",
    "}\n",
    "\n",
    "Reflectores = {\n",
    "    \"base\": \"ABCDEFGHIJKLMNOPQRSTUVWXYZ\",\n",
    "    \"A\"   : \"EJMZALYXVBWFCRQUONTSPIKHGD\",\n",
    "    \"B\"   : \"YRUHQSLDPXNGOKMIEBFZCWVJAT\",\n",
    "    \"C\"   : \"FVPJIAOYEDRZXWGCTKUQSBNMHL\"\n",
    "}"
   ]
  },
  {
   "cell_type": "code",
   "execution_count": 87,
   "metadata": {},
   "outputs": [],
   "source": [
    "class Rotor:\n",
    "    def __init__(self, rueda: str):      \n",
    "        self.wiring = rueda\n",
    "\n",
    "    def siguiente(self, indice):\n",
    "        letra_a_buscar = self.wiring[self.indice]\n",
    "        indice_siguiente = Ruedas[\"base\"].find(letra_a_buscar)\n",
    "        return indice_siguiente\n",
    "\n",
    "    def revertir(self, indice):\n",
    "        letra_en_base = Ruedas[\"base\"][indice]\n",
    "        indice_de_salida = self.wiring.find(letra_en_base)    \n",
    "        return indice_de_salida"
   ]
  },
  {
   "cell_type": "code",
   "execution_count": 88,
   "metadata": {},
   "outputs": [],
   "source": [
    "class Reflector:\n",
    "    def __init__(self, reflector: str):\n",
    "        self.wiring = reflector\n",
    "    \n",
    "    def reflejar(self, indice):\n",
    "        \"\"\"\n",
    "        `Indice` representa la letra de base[indice].\n",
    "        \"\"\"\n",
    "        letra_a_buscar = self.wiring[self.indice]\n",
    "        indice_siguiente = Reflectores[\"base\"].find(letra_a_buscar)\n",
    "        return indice_siguiente"
   ]
  },
  {
   "cell_type": "code",
   "execution_count": 86,
   "metadata": {},
   "outputs": [],
   "source": [
    "class Plugboard:\n",
    "    def __init__(self, parametros):\n",
    "        \"\"\"\n",
    "        El parámetro `mapping` es una lista de duplas, de la forma\n",
    "        ```\n",
    "        [(letra1, letra2), (letra3, letra4)]\n",
    "        ```\n",
    "        \n",
    "        De forma que se construirá un mapa tal que letra1 -> letra2, etc...\n",
    "        \"\"\"\n",
    "        \n",
    "        self.base = \"ABCDEFGHIJKLMNOPQRSTUVWXYZ\"\n",
    "        self.mapping = {}\n",
    "\n",
    "        # Nos guardamos primero un mapa de la forma A -> A, B -> B, ...\n",
    "        for letra in self.base:\n",
    "            self.mapping[m] = m\n",
    "\n",
    "        # Y ahora lo sustituimos por lo que nos han mandado\n",
    "        for dupla in parametros:\n",
    "            self.mapping[dupla[0]] = dupla[1]\n",
    "            self.mapping[dupla[1]] = dupla[0]\n",
    "    \n",
    "    def siguiente(self, letra: str):\n",
    "        return self.mapping[letra]"
   ]
  },
  {
   "cell_type": "code",
   "execution_count": 79,
   "metadata": {},
   "outputs": [],
   "source": [
    "class Enigma:\n",
    "    def __init__(self):\n",
    "        print()"
   ]
  },
  {
   "cell_type": "code",
   "execution_count": 84,
   "metadata": {},
   "outputs": [],
   "source": [
    "rotor = Rotor(Ruedas[\"I\"])\n"
   ]
  },
  {
   "cell_type": "code",
   "execution_count": 85,
   "metadata": {},
   "outputs": [
    {
     "data": {
      "text/plain": [
       "4"
      ]
     },
     "execution_count": 85,
     "metadata": {},
     "output_type": "execute_result"
    }
   ],
   "source": [
    "rotor.siguiente()"
   ]
  },
  {
   "cell_type": "code",
   "execution_count": null,
   "metadata": {},
   "outputs": [],
   "source": []
  },
  {
   "cell_type": "code",
   "execution_count": null,
   "metadata": {},
   "outputs": [],
   "source": []
  }
 ],
 "metadata": {
  "interpreter": {
   "hash": "1e40badb7bcb1e92d160f0b4bed5c17fe911a99e768c213b4c3307cd30d71202"
  },
  "kernelspec": {
   "display_name": "Python 3.10.0 64-bit",
   "name": "python3"
  },
  "language_info": {
   "codemirror_mode": {
    "name": "ipython",
    "version": 3
   },
   "file_extension": ".py",
   "mimetype": "text/x-python",
   "name": "python",
   "nbconvert_exporter": "python",
   "pygments_lexer": "ipython3",
   "version": "3.10.0"
  },
  "orig_nbformat": 4
 },
 "nbformat": 4,
 "nbformat_minor": 2
}
