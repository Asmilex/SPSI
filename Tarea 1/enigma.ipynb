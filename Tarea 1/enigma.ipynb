{
 "cells": [
  {
   "cell_type": "code",
   "execution_count": 66,
   "metadata": {},
   "outputs": [],
   "source": [
    "def siguiente_alpha(letra):\n",
    "    return chr(ord(letra) + 1)"
   ]
  },
  {
   "cell_type": "code",
   "execution_count": 67,
   "metadata": {},
   "outputs": [],
   "source": [
    "Ruedas = {\n",
    "    \"base\": \"ABCDEFGHIJKLMNOPQRSTUVWXYZ\",\n",
    "    \"I\"   : \"EKMFLGDQVZNTOWYHXUSPAIBRCJ\",\n",
    "    \"II\"  : \"AJDKSIRUXBLHWTMCQGZNPYFVOE\",\n",
    "    \"III\" : \"BDFHJLCPRTXVZNYEIWGAKMUSQO\",\n",
    "    \"IV\"  : \"ESOVPZJAYQUIRHXLNFTGKDCMWB\",\n",
    "    \"V\"   : \"VZBRGITYUPSDNHLXAWMJQOFECK\",\n",
    "    \"VI\"  : \"JPGVOUMFYQBENHZRDKASXLICTW\",\n",
    "    \"VII\" : \"NZJHGRCXMYSWBOUFAIVLPEKQDT\",\n",
    "    \"VIII\": \"FKQHTLXOCBJSPDZRAMEWNIUYGV\"\n",
    "}\n",
    "\n",
    "Ruedas_griegas = {\n",
    "    \"base\" : \"ABCDEFGHIJKLMNOPQRSTUVWXYZ\",\n",
    "    \"beta\" : \"LEYJVCNIXWPBQMDRTAKZGFUHOS\",\n",
    "    \"gamma\": \"FSOKANUERHMBTIYCWLQPZXVGJD\"\n",
    "}\n",
    "\n",
    "Reflectores = {\n",
    "    \"base\": \"ABCDEFGHIJKLMNOPQRSTUVWXYZ\",\n",
    "    \"A\"   : \"EJMZALYXVBWFCRQUONTSPIKHGD\",\n",
    "    \"B\"   : \"YRUHQSLDPXNGOKMIEBFZCWVJAT\",\n",
    "    \"C\"   : \"FVPJIAOYEDRZXWGCTKUQSBNMHL\"\n",
    "}"
   ]
  },
  {
   "cell_type": "code",
   "execution_count": 68,
   "metadata": {},
   "outputs": [],
   "source": [
    "class Rotor:\n",
    "    def __init__(self, rueda: str, ringstellung: str):      \n",
    "        self.wiring = rueda\n",
    "        indice_ring = Ruedas[\"base\"].find(ringstellung)\n",
    "\n",
    "        # Aplicamos el ringstellung, moviendo cada letra ciertas posiciones con respecto a la base\n",
    "        wiring_as_str = self.wiring\n",
    "        \n",
    "        # Los str son inmutables, así que lo cambiamos temporalmente por una lista\n",
    "        self.wiring = list(self.wiring)\n",
    "        \n",
    "        for i in range(len(self.wiring)):\n",
    "            indice = Ruedas[\"base\"].find(self.wiring[i]) + indice_ring\n",
    "            self.wiring[i] = Ruedas[\"base\"][indice % 26]\n",
    "        \n",
    "\n",
    "        # Desplazamos la cadena indice_ring lugares a la derecha\n",
    "        self.wiring = self.wiring[len(self.wiring) - indice_ring : ] + self.wiring[ : len(self.wiring) - indice_ring ]\n",
    "    \n",
    "        # Restauramos la cadena\n",
    "        cadena = \"\"\n",
    "        for c in self.wiring:\n",
    "            cadena = cadena + c\n",
    "        \n",
    "        self.wiring = cadena   \n",
    "\n",
    "\n",
    "    def siguiente(self, indice):\n",
    "        letra_a_buscar = self.wiring[self.indice]\n",
    "        indice_siguiente = Ruedas[\"base\"].find(letra_a_buscar)\n",
    "        return indice_siguiente\n",
    "\n",
    "    def revertir(self, indice):\n",
    "        letra_en_base = Ruedas[\"base\"][indice]\n",
    "        indice_de_salida = self.wiring.find(letra_en_base)    \n",
    "        return indice_de_salida"
   ]
  },
  {
   "cell_type": "code",
   "execution_count": 69,
   "metadata": {},
   "outputs": [],
   "source": [
    "class Reflector:\n",
    "    def __init__(self, reflector: str):\n",
    "        self.wiring = reflector\n",
    "    \n",
    "    def reflejar(self, indice):\n",
    "        \"\"\"\n",
    "        `Indice` representa la letra de base[indice].\n",
    "        \"\"\"\n",
    "        letra_a_buscar = self.wiring[self.indice]\n",
    "        indice_siguiente = Reflectores[\"base\"].find(letra_a_buscar)\n",
    "        return indice_siguiente"
   ]
  },
  {
   "cell_type": "code",
   "execution_count": 70,
   "metadata": {},
   "outputs": [],
   "source": [
    "class Plugboard:\n",
    "    def __init__(self, parametros):\n",
    "        \"\"\"\n",
    "        El parámetro `mapping` es una lista de duplas, de la forma\n",
    "        ```\n",
    "        [(letra1, letra2), (letra3, letra4)]\n",
    "        ```\n",
    "        \n",
    "        De forma que se construirá un mapa tal que letra1 -> letra2, etc...\n",
    "        \"\"\"\n",
    "        \n",
    "        self.base = \"ABCDEFGHIJKLMNOPQRSTUVWXYZ\"\n",
    "        self.mapping = {}\n",
    "\n",
    "        # Nos guardamos primero un mapa de la forma A -> A, B -> B, ...\n",
    "        for letra in self.base:\n",
    "            self.mapping[letra] = letra\n",
    "\n",
    "        # Y ahora lo sustituimos por lo que nos han mandado\n",
    "        for dupla in parametros:\n",
    "            self.mapping[dupla[0]] = dupla[1]\n",
    "            self.mapping[dupla[1]] = dupla[0]\n",
    "    \n",
    "    def siguiente(self, letra: str):\n",
    "        return self.mapping[letra]"
   ]
  },
  {
   "cell_type": "code",
   "execution_count": 85,
   "metadata": {},
   "outputs": [],
   "source": [
    "class Enigma:\n",
    "    def __init__(self, ruedas: list[str], ringstellungs: str, grundstellungs: str, reflector: str, steckern: list[(str, str)]):\n",
    "        if len(ruedas) != len(ringstellungs):\n",
    "            print(\"Me has dado un número de ruedas distinto de la configuración del ringstellung\")\n",
    "        if len(ruedas) != len(grundstellungs):\n",
    "            print(\"Me has dado un número de ruedas distinto de la configuración del grundstellung\")\n",
    "        \n",
    "        self.rotores = []\n",
    "        for rotor, ring in zip(ruedas, ringstellungs):\n",
    "            self.rotores.append(Rotor(rotor, ring))\n",
    "        \n",
    "        self.indices = []\n",
    "        for letra in grundstellungs:\n",
    "            self.indices.append(Ruedas[\"base\"].find(letra))\n",
    "\n",
    "        self.plugboard = Plugboard(steckern)\n",
    "        self.reflector = Reflector(reflector)\n",
    "    \n",
    "    def cifrar_caracter(self, c: str):\n",
    "        # Letra -> plugbooard -> Rotores -> Reflector -> Rotores -> plugboard -> salida\n",
    "        letra = self.plugboard.siguiente(c)\n",
    "        \n",
    "\n",
    "\n",
    "        return letra\n",
    "\n",
    "    def cifrar(self, mensaje: str):\n",
    "        # FIXME cuidado con la configuración inicial\n",
    "        \n",
    "        salida = \"\"\n",
    "\n",
    "        for letra in mensaje:\n",
    "            if letra == \" \":\n",
    "                salida = salida + \" \"\n",
    "            else:\n",
    "                salida = salida + self.cifrar_caracter(letra)\n",
    "        \n",
    "        return salida\n",
    "\n",
    "\n",
    "\n",
    "        \n"
   ]
  },
  {
   "cell_type": "code",
   "execution_count": 90,
   "metadata": {},
   "outputs": [],
   "source": [
    "def es_conmutativo(mensaje1, mensaje2):\n",
    "    return mensaje1 == mensaje2"
   ]
  },
  {
   "cell_type": "code",
   "execution_count": 92,
   "metadata": {},
   "outputs": [
    {
     "data": {
      "text/plain": [
       "True"
      ]
     },
     "execution_count": 92,
     "metadata": {},
     "output_type": "execute_result"
    }
   ],
   "source": [
    "rotores = [Ruedas[\"V\"], Ruedas[\"VI\"], Ruedas[\"VIII\"], Ruedas_griegas[\"beta\"]]\n",
    "ringstellungs = \"EPEL\"\n",
    "grundstellungs = \"NAEM\"\n",
    "clavijas = [(\"A\", \"E\"), (\"B\", \"F\"), (\"C\", \"M\"), (\"D\", \"Q\"), (\"H\", \"U\"), (\"J\", \"N\"), (\"L\", \"X\"), (\"P\", \"R\"), (\"S\", \"Z\"), (\"V\", \"W\")]\n",
    "\n",
    "enigma = Enigma(rotores, ringstellungs, grundstellungs, Reflectores[\"C\"], clavijas)\n",
    "\n",
    "mensaje = \"DUHF TETO LANO TCTO UARB BFPM HPHG CZXT DYGA HGUF XGEW KBLK GJWL QXXT GPJJ AVTO CKZF SLPP QIHZ FXOE BWII EKFZ LCLO AQJU LJOY HSSM BBGW HZAN VOII PYRB RTDJ QDJJ OQKC XWDN BBTY VXLY TAPG VEAT XSON PNYN QFUD BBHH VWEP YEYD OHNL XKZD NWRH DUWU JUMW WVII WZXI VIUQ DRHY MNCY EFUA PNHO TKHK GDNP SAKN UAGH JZSM JBMH VTRE QEDG XHLZ WIFU SKDQ VELN MIMI THBH DBWV HDFY HJOQ IHOR TDJD BWXE MEAY XGYQ XOHF DMYU XXNO JAZR SGHP LWML RECW WUTL RTTV LBHY OORG LGOW UXNX HMHY FAAC QEKT HSJW DUHF TETO\"\n",
    "\n",
    "\n",
    "es_conmutativo(mensaje, enigma.cifrar(enigma.cifrar(mensaje)))"
   ]
  }
 ],
 "metadata": {
  "interpreter": {
   "hash": "1e40badb7bcb1e92d160f0b4bed5c17fe911a99e768c213b4c3307cd30d71202"
  },
  "kernelspec": {
   "display_name": "Python 3.10.0 64-bit",
   "name": "python3"
  },
  "language_info": {
   "codemirror_mode": {
    "name": "ipython",
    "version": 3
   },
   "file_extension": ".py",
   "mimetype": "text/x-python",
   "name": "python",
   "nbconvert_exporter": "python",
   "pygments_lexer": "ipython3",
   "version": "3.10.0"
  },
  "orig_nbformat": 4
 },
 "nbformat": 4,
 "nbformat_minor": 2
}
