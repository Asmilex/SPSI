{
 "cells": [
  {
   "cell_type": "code",
   "execution_count": 1,
   "metadata": {},
   "outputs": [],
   "source": [
    "Ruedas = {\n",
    "    \"base\": {\n",
    "         \"secuencia\": \"ABCDEFGHIJKLMNOPQRSTUVWXYZ\",\n",
    "         \"notch\"    : \"\",\n",
    "         \"turnover\" : \"\"\n",
    "    },\n",
    "    \"I\"  : {\n",
    "         \"secuencia\": \"EKMFLGDQVZNTOWYHXUSPAIBRCJ\",\n",
    "         \"notch\"    : \"Q\",\n",
    "         \"turnover\" : \"R\"\n",
    "    },\n",
    "    \"II\" : {\n",
    "         \"secuencia\": \"AJDKSIRUXBLHWTMCQGZNPYFVOE\",\n",
    "         \"notch\"    : \"E\",\n",
    "         \"turnover\" : \"F\"\n",
    "    },\n",
    "    \"III\": {\n",
    "         \"secuencia\": \"BDFHJLCPRTXVZNYEIWGAKMUSQO\",\n",
    "         \"notch\"    : \"V\",\n",
    "         \"turnover\" : \"W\"\n",
    "    },\n",
    "    \"IV\" : {\n",
    "         \"secuencia\": \"ESOVPZJAYQUIRHXLNFTGKDCMWB\",\n",
    "         \"notch\"    : \"J\",\n",
    "         \"turnover\" : \"K\"\n",
    "    },\n",
    "    \"V\"  : {\n",
    "         \"secuencia\": \"VZBRGITYUPSDNHLXAWMJQOFECK\",\n",
    "         \"notch\"    : \"Z\",\n",
    "         \"turnover\" : \"A\"\n",
    "    },\n",
    "    \"VI\" : {\n",
    "         \"secuencia\": \"JPGVOUMFYQBENHZRDKASXLICTW\",\n",
    "         \"notch\"    : \"ZM\",\n",
    "         \"turnover\" : \"AN\"\n",
    "    },\n",
    "    \"VII\": {\n",
    "         \"secuencia\": \"NZJHGRCXMYSWBOUFAIVLPEKQDT\",\n",
    "         \"notch\"    : \"ZM\",\n",
    "         \"turnover\" : \"AN\"\n",
    "    },\n",
    "    \"VIII\": {\n",
    "         \"secuencia\": \"FKQHTLXOCBJSPDZRAMEWNIUYGV\",\n",
    "         \"notch\"    : \"ZM\",\n",
    "         \"turnover\" : \"AN\"\n",
    "    }\n",
    "}\n",
    "\n",
    "Ruedas_griegas = {\n",
    "    \"base\" : {\n",
    "         \"secuencia\": \"ABCDEFGHIJKLMNOPQRSTUVWXYZ\",\n",
    "         \"notch\"    : \"\",\n",
    "         \"turnover\" : \"\"\n",
    "     },\n",
    "    \"beta\" : {\n",
    "         \"secuencia\": \"LEYJVCNIXWPBQMDRTAKZGFUHOS\",\n",
    "         \"notch\"    : \"\",\n",
    "         \"turnover\" : \"\"\n",
    "     },\n",
    "    \"gamma\": {\n",
    "         \"secuencia\": \"FSOKANUERHMBTIYCWLQPZXVGJD\",\n",
    "         \"notch\"    : \"\",\n",
    "         \"turnover\" : \"\"\n",
    "     }\n",
    "}\n",
    "\n",
    "Reflectores = {\n",
    "    \"base\"  : \"ABCDEFGHIJKLMNOPQRSTUVWXYZ\",\n",
    "    \"A\"     : \"EJMZALYXVBWFCRQUONTSPIKHGD\",\n",
    "    \"B\"     : \"YRUHQSLDPXNGOKMIEBFZCWVJAT\",\n",
    "    \"C\"     : \"FVPJIAOYEDRZXWGCTKUQSBNMHL\",\n",
    "    \"B_thin\": \"ENKQAUYWJICOPBLMDXZVFTHRGS\",\n",
    "    \"C_thin\": \"RDOBJNTKVEHMLFCWZAXGYIPSUQ\"\n",
    "}"
   ]
  },
  {
   "cell_type": "code",
   "execution_count": 2,
   "metadata": {},
   "outputs": [],
   "source": [
    "class Rotor:\n",
    "    def __init__(self, rueda, ringstellung: str):      \n",
    "        \"\"\"\n",
    "        Rueda es el mapa de la parte inicial del fichero. \n",
    "        \"\"\"\n",
    "\n",
    "        self.base      = Ruedas[\"base\"][\"secuencia\"]\n",
    "        self.secuencia = rueda[\"secuencia\"]\n",
    "        self.notch     = rueda[\"notch\"]\n",
    "        self.turnover  = rueda[\"turnover\"]\n",
    "\n",
    "        # Aplicamos el ringstellung, moviendo cada letra ciertas posiciones con respecto a la base\n",
    "        self.__ajusta_ringstellung__(ringstellung)\n",
    "\n",
    "\n",
    "#\n",
    "# ──────────────────────────────────────────────────────────── CONFIGURACIÓN ─────\n",
    "#\n",
    "\n",
    "\n",
    "    def ajusta_grundstellung(self, indice):\n",
    "        self.base   = self.base[indice:] + self.base[:indice]\n",
    "        self.secuencia = self.secuencia[indice:] + self.secuencia[:indice]\n",
    "    \n",
    "    \n",
    "    def __ajusta_ringstellung__(self, ringstellung: str):\n",
    "        indice_ring = Ruedas[\"base\"][\"secuencia\"].find(ringstellung)\n",
    "        self.secuencia = list(self.secuencia)\n",
    "        \n",
    "        for i in range(len(self.secuencia)):\n",
    "            indice = Ruedas[\"base\"][\"secuencia\"].find(self.secuencia[i]) + indice_ring\n",
    "            self.secuencia[i] = Ruedas[\"base\"][\"secuencia\"][indice % 26]\n",
    "        \n",
    "        cadena = \"\"\n",
    "        for c in self.secuencia:\n",
    "            cadena = cadena + c\n",
    "        self.secuencia = cadena   \n",
    "        self.secuencia = self.secuencia[-indice_ring:] + self.secuencia[:-indice_ring]\n",
    "\n",
    "\n",
    "#\n",
    "# ───────────────────────────────────────────────────────── ACCIÓN DEL ROTOR ─────\n",
    "#\n",
    " \n",
    "    def siguiente(self, indice: int):\n",
    "        letra_a_buscar   = self.secuencia[indice]\n",
    "        indice_siguiente = self.base.index(letra_a_buscar)\n",
    "        return indice_siguiente\n",
    "\n",
    "\n",
    "    def revertir(self, indice):\n",
    "        letra_en_base    = self.base[indice]\n",
    "        indice_de_salida = self.secuencia.index(letra_en_base)\n",
    "        return indice_de_salida\n",
    "\n",
    "\n",
    "    def rotar(self):\n",
    "        self.base   = self.base[1:] + self.base[:1]\n",
    "        self.secuencia = self.secuencia[1:] + self.secuencia[:1]\n",
    "\n",
    "\n",
    "    def ha_tocado_notch(self):\n",
    "        return self.base[0] in self.notch"
   ]
  },
  {
   "cell_type": "code",
   "execution_count": 3,
   "metadata": {},
   "outputs": [],
   "source": [
    "class Reflector:\n",
    "    def __init__(self, reflector: str):\n",
    "        self.secuencia = reflector\n",
    "    \n",
    "    def reflejar(self, indice):\n",
    "        \"\"\"\n",
    "        `Indice` representa la letra de base[indice].\n",
    "        \"\"\"\n",
    "        letra_a_buscar = self.secuencia[indice]\n",
    "        indice_siguiente = Reflectores[\"base\"].find(letra_a_buscar)\n",
    "        return indice_siguiente"
   ]
  },
  {
   "cell_type": "code",
   "execution_count": 4,
   "metadata": {},
   "outputs": [],
   "source": [
    "class Plugboard:\n",
    "    def __init__(self, parametros):\n",
    "        \"\"\"\n",
    "        El parámetro `mapping` es una lista de duplas, de la forma\n",
    "        ```\n",
    "        [(letra1, letra2), (letra3, letra4)]\n",
    "        ```\n",
    "        \n",
    "        De forma que se construirá un mapa tal que letra1 -> letra2, etc...\n",
    "        \"\"\"\n",
    "        \n",
    "        self.base    = \"ABCDEFGHIJKLMNOPQRSTUVWXYZ\"\n",
    "        self.mapping = {}\n",
    "\n",
    "        # Nos guardamos primero un mapa de la forma A -> A, B -> B, ...\n",
    "        for letra in self.base:\n",
    "            self.mapping[letra] = letra\n",
    "\n",
    "        # Y ahora lo sustituimos por lo que nos han mandado\n",
    "        for dupla in parametros:\n",
    "            self.mapping[dupla[0]] = dupla[1]\n",
    "            self.mapping[dupla[1]] = dupla[0]\n",
    "    \n",
    "    \n",
    "    def siguiente(self, letra: str) -> str:\n",
    "        return self.mapping[letra]"
   ]
  },
  {
   "cell_type": "code",
   "execution_count": 5,
   "metadata": {},
   "outputs": [],
   "source": [
    "class Enigma:\n",
    "    def __init__(self, ruedas, ringstellungs: str, grundstellungs: str, reflector: str, steckern: list[(str, str)]):\n",
    "        \n",
    "        if len(ruedas) != len(ringstellungs):\n",
    "            print(\"Me has dado un número de ruedas distinto de la configuración del ringstellung\")\n",
    "        if len(ruedas) != len(grundstellungs):\n",
    "            print(\"Me has dado un número de ruedas distinto de la configuración del grundstellung\")\n",
    "        \n",
    "        # Guardar la configuración inicial para el reseteo\n",
    "        self.params = [ruedas, ringstellungs, grundstellungs, reflector, steckern]\n",
    "\n",
    "        # Inicialización de los rotores        \n",
    "        self.__setup_rotores__(ruedas, ringstellungs, grundstellungs)        \n",
    "\n",
    "        # Montamos el resto de los componentes\n",
    "        self.plugboard = Plugboard(steckern)\n",
    "        self.reflector = Reflector(reflector)\n",
    "\n",
    "        # Los rotores giran cuando se pulsa una letra de una manera determinada. \n",
    "        # La enigma M4 utilizó un cuarto rotor que no gira, por lo que el último campo se mantendrá a False. \n",
    "        # El primero siempre rota, por lo que constantemente estará a True\n",
    "        # Utilizar esta estructura nos resultará especialmente útil cuando tengamos que controlar el double step. \n",
    "        self.needs_rotation = [False, False, False, True]\n",
    "\n",
    "\n",
    "    def __setup_rotores__(self, ruedas, ringstellungs: str, grundstellungs: str):\n",
    "        self.rotores = []\n",
    "        for rotor, ring in zip(ruedas, ringstellungs):\n",
    "            self.rotores.append(Rotor(rotor, ring))\n",
    "        \n",
    "        # Encontramos los índices correspondientes al grundstellung\n",
    "        indices = []\n",
    "        for letra in grundstellungs:\n",
    "            indices.append(Ruedas[\"base\"][\"secuencia\"].find(letra))\n",
    "\n",
    "        for rotor, indice in zip(self.rotores, indices):\n",
    "            rotor.ajusta_grundstellung(indice)\n",
    "    \n",
    "    \n",
    "    def reset(self):\n",
    "        self.__setup_rotores__(self.params[0], self.params[1], self.params[2])\n",
    "        self.needs_rotation = [False, False, False, True]\n",
    "\n",
    "\n",
    "#\n",
    "# ─────────────────────────────────────────────────────────── FUNCIONAMIENTO ─────\n",
    "#\n",
    "\n",
    "\n",
    "    def __cifrar_caracter__(self, c: str):\n",
    "        # ────────────────────────────────────────────────── ROTACION ─────\n",
    "        #\n",
    "        # Vigilar cuándo toca el notch, para girarlos cuando corresponda. \n",
    "        # Utilizar esta estructura nos resultará especialmente útil cuando tengamos que controlar el double step. \n",
    "\n",
    "        # Los rotores se iteran de derecha a izquierda:\n",
    "        # <- [D, C, B, A] <- \n",
    "        self.needs_rotation[-2] = self.rotores[-1].ha_tocado_notch()\n",
    "        self.needs_rotation[-3] = self.rotores[-2].ha_tocado_notch()\n",
    "        \n",
    "        # Single step\n",
    "        for rotor, do_i_rotate in zip(self.rotores[::-1], self.needs_rotation[::-1]):\n",
    "            if do_i_rotate:\n",
    "                rotor.rotar()\n",
    "        \n",
    "        # Double step\n",
    "        if self.needs_rotation[-3]:\n",
    "            self.rotores[-2].rotar()\n",
    "\n",
    "\n",
    "        # ─────────────────────────────────────────────────── CIFRADO ─────\n",
    "\n",
    "        # El orden es el siguiente:\n",
    "        # Pulsamos una tecla de entrada -> plugbooard -> rotores -> reflector -> rotores -> plugboard -> salida\n",
    "        letra = self.plugboard.siguiente(c)\n",
    "\n",
    "        # A partir de aquí, necesitamos los índices, que nos serán más cómodos. Retomaremos la letra más tarde\n",
    "        indice_letra = Ruedas[\"base\"][\"secuencia\"].find(letra)\n",
    "\n",
    "        for rotor in reversed(self.rotores):\n",
    "            indice_letra = rotor.siguiente(indice_letra)\n",
    "        \n",
    "        indice_letra = self.reflector.reflejar(indice_letra)\n",
    "    \n",
    "        for rotor in self.rotores:\n",
    "            indice_letra = rotor.revertir(indice_letra)\n",
    "        \n",
    "        letra = Ruedas[\"base\"][\"secuencia\"][indice_letra]\n",
    "\n",
    "        letra = self.plugboard.siguiente(letra)\n",
    "        \n",
    "        return letra\n",
    "\n",
    "\n",
    "    def cifrar(self, mensaje: str):        \n",
    "        salida = \"\"\n",
    "\n",
    "        for letra in mensaje:\n",
    "            if letra == \" \":\n",
    "                salida = salida + \" \"\n",
    "            else:\n",
    "                salida = salida + self.__cifrar_caracter__(letra)\n",
    "        \n",
    "        return salida\n"
   ]
  },
  {
   "cell_type": "code",
   "execution_count": 6,
   "metadata": {},
   "outputs": [
    {
     "name": "stdout",
     "output_type": "stream",
     "text": [
      "Para probar la máquina Enigma, la configuraremos con los requisitos dados por el PDF, y comprobaremos que sale lo debido\n",
      "CDSZ\n",
      "Mensaje original: LANO TCTO UARB BFPM HPHG CZXT DYGA HGUF XGEW KBLK GJWL QXXT GPJJ AVTO CKZF SLPP QIHZ FXOE BWII EKFZ LCLO AQJU LJOY HSSM BBGW HZAN VOII PYRB RTDJ QDJJ OQKC XWDN BBTY VXLY TAPG VEAT XSON PNYN QFUD BBHH VWEP YEYD OHNL XKZD NWRH DUWU JUMW WVII WZXI VIUQ DRHY MNCY EFUA PNHO TKHK GDNP SAKN UAGH JZSM JBMH VTRE QEDG XHLZ WIFU SKDQ VELN MIMI THBH DBWV HDFY HJOQ IHOR TDJD BWXE MEAY XGYQ XOHF DMYU XXNO JAZR SGHP LWML RECW WUTL RTTV LBHY OORG LGOW UXNX HMHY FAAC QEKT HSJW\n",
      "\n",
      "Mensaje cifrado: KRKR ALLE XXFO LGEN DESI STSO FORT BEKA NNTZ UGEB ENXX ICHH ABEF OLGE LNBE BEFE HLER HALT ENXX JANS TERL EDES BISH ERIG XNRE ICHS MARS CHAL LSJG OERI NGJS ETZT DERF UEHR ERSI EYHV RRGR ZSSA DMIR ALYA LSSE INEN NACH FOLG EREI NXSC HRIF TLSC HEVO LLMA CHTU NTER WEGS XABS OFOR TSOL LENS IESA EMTL ICHE MASS NAHM ENVE RFUE GENY DIES ICHA USDE RGEG ENWA ERTI GENL AGEE RGEB ENXG EZXR EICH SLEI TEIK KTUL PEKK JBOR MANN JXXO BXDX MMMD URNH FKST XKOM XADM XUUU BOOI EXKP\n",
      "\n",
      "¿Son iguales el mensaje esperado y el que hemos obtenido? True\n"
     ]
    }
   ],
   "source": [
    "print(\"Para probar la máquina Enigma, la configuraremos con los requisitos dados por el PDF, y comprobaremos que sale lo debido\")\n",
    "\n",
    "# Suponemos que utilizamos el orden [rotor de la derecha (VIII) -> rotor de la izquierda (beta)].\n",
    "# Creemos que mantener este orden simplifica mucho el código, ya que no hay necesidades físicas como pasaba en la máquina original.\n",
    "rotores   = [Ruedas_griegas[\"beta\"], Ruedas[\"V\"], Ruedas[\"VI\"], Ruedas[\"VIII\"]]\n",
    "clavijas  = [(\"A\", \"E\"), (\"B\", \"F\"), (\"C\", \"M\"), (\"D\", \"Q\"), (\"H\", \"U\"), (\"J\", \"N\"), (\"L\", \"X\"), (\"P\", \"R\"), (\"S\", \"Z\"), (\"V\", \"W\")]\n",
    "reflector = Reflectores[\"C_thin\"]\n",
    "\n",
    "# Necesitamos revertir el orden del ring setting y la posición dados, pues se suponía en el PDF un funcionamiento idéntico al físico. \n",
    "ringstellungs            = \"EPEL\"   \n",
    "grundstellungs_iniciales = \"NAEM\"\n",
    "\n",
    "enigma = Enigma(rotores, ringstellungs, grundstellungs_iniciales, reflector, clavijas)\n",
    "\n",
    "futuro_grundstellungs = \"QEOB\"\n",
    "grundstellungs = enigma.cifrar(futuro_grundstellungs)\n",
    "print(grundstellungs)\n",
    "\n",
    "# Configuramos la nueva Enigma con el grundstellung que hemos obtenido\n",
    "enigma = Enigma(rotores, ringstellungs, grundstellungs, reflector, clavijas)\n",
    "\n",
    "mensaje = \"DUHF TETO LANO TCTO UARB BFPM HPHG CZXT DYGA HGUF XGEW KBLK GJWL QXXT GPJJ AVTO CKZF SLPP QIHZ FXOE BWII EKFZ LCLO AQJU LJOY HSSM BBGW HZAN VOII PYRB RTDJ QDJJ OQKC XWDN BBTY VXLY TAPG VEAT XSON PNYN QFUD BBHH VWEP YEYD OHNL XKZD NWRH DUWU JUMW WVII WZXI VIUQ DRHY MNCY EFUA PNHO TKHK GDNP SAKN UAGH JZSM JBMH VTRE QEDG XHLZ WIFU SKDQ VELN MIMI THBH DBWV HDFY HJOQ IHOR TDJD BWXE MEAY XGYQ XOHF DMYU XXNO JAZR SGHP LWML RECW WUTL RTTV LBHY OORG LGOW UXNX HMHY FAAC QEKT HSJW DUHF TETO\"\n",
    "# Quitar 2 primeros y 2 últimos grupos, pues se utilizaban para advertir fallos en la transmisión        \n",
    "mensaje = mensaje[10:len(mensaje)-10]\n",
    "\n",
    "mensaje_cifrado = enigma.cifrar(mensaje)\n",
    "\n",
    "print(f\"Mensaje original: {mensaje}\\n\")\n",
    "print(f\"Mensaje cifrado: {mensaje_cifrado}\\n\")\n",
    "\n",
    "mensaje_museo = \"KRKRALLEXXFOLGENDESISTSOFORTBEKANNTZUGEBENXXICHHABEFOLGELNBEBEFEHLERHALTENXXJANSTERLEDESBISHERIGXNREICHSMARSCHALLSJGOERINGJSETZTDERFUEHRERSIEYHVRRGRZSSADMIRALYALSSEINENNACHFOLGEREINXSCHRIFTLSCHEVOLLMACHTUNTERWEGSXABSOFORTSOLLENSIESAEMTLICHEMASSNAHMENVERFUEGENYDIESICHAUSDERGEGENWAERTIGENLAGEERGEBENXGEZXREICHSLEITEIKKTULPEKKJBORMANNJXXOBXDXMMMDURNHFKSTXKOMXADMXUUUBOOIEXKP\"\n",
    "mensaje_cifrado.replace(\" \", \"\")\n",
    "print(f'¿Son iguales el mensaje esperado y el que hemos obtenido? {mensaje_cifrado.replace(\" \", \"\") == mensaje_museo}')\n"
   ]
  },
  {
   "cell_type": "code",
   "execution_count": 7,
   "metadata": {},
   "outputs": [
    {
     "data": {
      "text/plain": [
       "('PRUEBA', 'WSKUTF', 'PRUEBA')"
      ]
     },
     "execution_count": 7,
     "metadata": {},
     "output_type": "execute_result"
    }
   ],
   "source": [
    "# Se puede configurar la máquina para admitir 3 rotores en vez de 4\n",
    "# Por ejemplo...\n",
    "rotores  = [Ruedas[\"VIII\"], Ruedas[\"VI\"], Ruedas[\"V\"]]\n",
    "clavijas = [(\"A\", \"E\"), (\"B\", \"F\"), (\"C\", \"M\"), (\"D\", \"Q\"), (\"H\", \"U\"), (\"J\", \"N\"), (\"L\", \"X\"), (\"P\", \"R\"), (\"S\", \"Z\"), (\"V\", \"W\")]\n",
    "reflector = Reflectores[\"C\"]\n",
    "\n",
    "ringstellungs            = \"LEP\"   # 11 4 15 4\n",
    "grundstellungs_iniciales = \"MEA\"   # 12 4 0 13\n",
    "\n",
    "enigma = Enigma(rotores, ringstellungs, grundstellungs_iniciales, reflector, clavijas)\n",
    "mensaje = \"PRUEBA\"\n",
    "mensaje_cifrado = enigma.cifrar(mensaje)\n",
    "enigma.reset()\n",
    "mensaje_descifrado = enigma.cifrar(mensaje_cifrado)\n",
    "\n",
    "mensaje, mensaje_cifrado, mensaje_descifrado"
   ]
  },
  {
   "cell_type": "markdown",
   "metadata": {},
   "source": [
    "# Ejercicio 4"
   ]
  },
  {
   "cell_type": "markdown",
   "metadata": {},
   "source": [
    "El día 31 de octubre de 1944, el oficial Villegas desde tierra quiere enviarle al oficial Millán, que está en una expedición dentro de un submarino, un mensaje:\n",
    "\n",
    "> 'Andres, los ingleses os van a meter un misilazo dentro de poco, tened cuidado'.\n",
    "\n",
    "Que formateado como un texto a enviar por la enigma sería:\n",
    "\n",
    "> J ANDRES Y LOS INGLESES OS VAN A METER UN MISILAZO DENTRO DE POCO Y TENED CUIDADO JX\n",
    "\n",
    "Que en bloques de cuatro caracteres sería:\n",
    "\n",
    "> JAND RESY LOSI NGLE SESO SVAN AMET ERUN MISI LAZO DENT RODE POCO YTEN EDCU IDAD OJX\n",
    "\n",
    "El oficial Andrés tiene una configuración propia única y conocida solo por los oficiales:\n",
    "* Zusatzwalze: Beta\n",
    "* Walzenlage: 245\n",
    "* Ringstellung: TAR\n",
    "* Grundstellung: FIN\n",
    "\n",
    "Por lo que el oficial Villegas codifica el mensaje con esa configuración, utilizando para el resto de parámetros los indicados por la fecha:\n",
    "\n",
    "![](http://users.telenet.be/d.rijmenants/pics/wehrmachtkey-stab.jpg)\n",
    "\n",
    "Esto es:"
   ]
  },
  {
   "cell_type": "code",
   "execution_count": 8,
   "metadata": {},
   "outputs": [],
   "source": [
    "rotores  = [Ruedas[\"II\"], Ruedas[\"IV\"], Ruedas[\"V\"]]\n",
    "clavijas = [(\"K\", \"L\"), (\"I\", \"T\"), (\"F\", \"Q\"), (\"H\", \"Y\"), (\"X\", \"C\"), (\"N\", \"P\"), (\"V\", \"Z\"), (\"J\", \"B\"), (\"S\", \"B\"), (\"O\", \"G\")]\n",
    "reflector = Reflectores[\"C\"]\n",
    "\n",
    "ringstellungs            = \"TAR\"   \n",
    "grundstellungs_iniciales = \"FIN\"\n",
    "\n",
    "enigma1 = Enigma(rotores, ringstellungs, grundstellungs_iniciales, reflector, clavijas)"
   ]
  },
  {
   "cell_type": "markdown",
   "metadata": {},
   "source": [
    "Ahora el oficial Villegas encripta su mensaje con esta configuración de enigma, "
   ]
  },
  {
   "cell_type": "code",
   "execution_count": 9,
   "metadata": {},
   "outputs": [
    {
     "data": {
      "text/plain": [
       "'BVPT QNTE NZLF HMRU FWUI XXHH BUXW BELV PQPR CUXV BPSS GNSO TXXW HRWT KWYO WBPQ QMY'"
      ]
     },
     "execution_count": 9,
     "metadata": {},
     "output_type": "execute_result"
    }
   ],
   "source": [
    "mensaje = \"JAND RESY LOSI NGLE SESO SVAN AMET ERUN MISI LAZO DENT RODE POCO YTEN EDCU IDAD OJX\"\n",
    "mensaje_destinatario = enigma1.cifrar(mensaje)\n",
    "mensaje_destinatario"
   ]
  },
  {
   "cell_type": "markdown",
   "metadata": {},
   "source": [
    "Y ahora se añade el destinatario al principio del mensaje:"
   ]
  },
  {
   "cell_type": "code",
   "execution_count": 10,
   "metadata": {},
   "outputs": [
    {
     "data": {
      "text/plain": [
       "'OFIC IALA NDRE SMIL LANX BVPT QNTE NZLF HMRU FWUI XXHH BUXW BELV PQPR CUXV BPSS GNSO TXXW HRWT KWYO WBPQ QMY'"
      ]
     },
     "execution_count": 10,
     "metadata": {},
     "output_type": "execute_result"
    }
   ],
   "source": [
    "mensaje_a_cifrar = \"OFIC IALA NDRE SMIL LANX \" + mensaje_destinatario\n",
    "mensaje_a_cifrar"
   ]
  },
  {
   "cell_type": "markdown",
   "metadata": {},
   "source": [
    "A continuación el oficial Villegas encripta el mensaje con la configuración de ese día y añade los caracteres de verificación, que por analogía con el ejercicio 2 seran \"DUHF TETO\""
   ]
  },
  {
   "cell_type": "code",
   "execution_count": 11,
   "metadata": {},
   "outputs": [
    {
     "data": {
      "text/plain": [
       "'DUHF TETO PITK NIEY BQEL BBZV ADCV ZYFC GEVK BFVH KCEZ IMCP RLBT QERM MSBT MPQP RGBE UDOR OIWS NSDH CDXB FNQW IEZE ILW DUHF TETO'"
      ]
     },
     "execution_count": 11,
     "metadata": {},
     "output_type": "execute_result"
    }
   ],
   "source": [
    "rotores  = [Ruedas[\"IV\"], Ruedas[\"V\"], Ruedas[\"I\"]]\n",
    "clavijas = [(\"K\", \"L\"), (\"I\", \"T\"), (\"F\", \"Q\"), (\"H\", \"Y\"), (\"X\", \"C\"), (\"N\", \"P\"), (\"V\", \"Z\"), (\"J\", \"B\"), (\"S\", \"B\"), (\"O\", \"G\")]\n",
    "reflector = Reflectores[\"C\"]\n",
    "\n",
    "ringstellungs            = \"VPQ\"   \n",
    "grundstellungs_iniciales = \"JKM\" \n",
    "\n",
    "verificacion = \"DUHF TETO\"\n",
    "\n",
    "enigma2 = Enigma(rotores, ringstellungs, grundstellungs_iniciales, reflector, clavijas)\n",
    "mensaje_enviado = verificacion + ' ' + enigma2.cifrar(mensaje_a_cifrar) + ' ' + verificacion\n",
    "\n",
    "mensaje_enviado "
   ]
  },
  {
   "cell_type": "markdown",
   "metadata": {},
   "source": [
    "Y ese es el mensaje que se envía. El oficial de llaves recibe ese mensaje desde dentro del submarino, configura la enigma con las claves de ese día y desencripta el mensaje."
   ]
  },
  {
   "cell_type": "code",
   "execution_count": 12,
   "metadata": {},
   "outputs": [
    {
     "name": "stdout",
     "output_type": "stream",
     "text": [
      "PITK NIEY BQEL BBZV ADCV ZYFC GEVK BFVH KCEZ IMCP RLBT QERM MSBT MPQP RGBE UDOR OIWS NSDH CDXB FNQW IEZE ILW\n"
     ]
    },
    {
     "data": {
      "text/plain": [
       "'OFIC IALA NDRE YMIL LANX BVPT QNTE QZLF HMRU FWUI XXHH BUXW BELV PQPR CUXV BPSS GNSO TXXW HRWC KWYO WBPQ QMY'"
      ]
     },
     "execution_count": 12,
     "metadata": {},
     "output_type": "execute_result"
    }
   ],
   "source": [
    "mensaje_recibido = mensaje_enviado[10:-10] \n",
    "print(mensaje_recibido)\n",
    "enigma2.reset()\n",
    "mensaje_desencriptado = enigma2.cifrar(mensaje_recibido)\n",
    "mensaje_desencriptado"
   ]
  },
  {
   "cell_type": "markdown",
   "metadata": {},
   "source": [
    "Y aquí el oficial de llaves ve que el mensaje está dirigido al oficial Andrés Millán, el cual con sus claves privadas desencripta el mensaje recibido:"
   ]
  },
  {
   "cell_type": "code",
   "execution_count": 13,
   "metadata": {},
   "outputs": [
    {
     "data": {
      "text/plain": [
       "('PITK NIEY BQEL BBZV ADCV ZYFC GEVK BFVH KCEZ IMCP RLBT QERM MSBT MPQP RGBE UDOR OIWS NSDH CDXB FNQW IEZE ILW',\n",
       " 'OFIC IALA NDRE YMIL LANX BVPT QNTE QZLF HMRU FWUI XXHH BUXW BELV PQPR CUXV BPSS GNSO TXXW HRWC KWYO WBPQ QMY',\n",
       " 'OFIC IALA NDRE SMIL LANX BVPT QNTE NZLF HMRU FWUI XXHH BUXW BELV PQPR CUXV BPSS GNSO TXXW HRWT KWYO WBPQ QMY')"
      ]
     },
     "execution_count": 13,
     "metadata": {},
     "output_type": "execute_result"
    }
   ],
   "source": [
    "mensaje_recibido, mensaje_desencriptado, mensaje_a_cifrar"
   ]
  }
 ],
 "metadata": {
  "interpreter": {
   "hash": "1a4ec5485fc52906d8a7c8fcf8f39da33ca1f06d93010ba644db5c2b15d734d1"
  },
  "kernelspec": {
   "display_name": "Python 3.9.7 64-bit",
   "name": "python3"
  },
  "language_info": {
   "codemirror_mode": {
    "name": "ipython",
    "version": 3
   },
   "file_extension": ".py",
   "mimetype": "text/x-python",
   "name": "python",
   "nbconvert_exporter": "python",
   "pygments_lexer": "ipython3",
   "version": "3.10.0"
  },
  "orig_nbformat": 4
 },
 "nbformat": 4,
 "nbformat_minor": 2
}
